{
  "nbformat": 4,
  "nbformat_minor": 0,
  "metadata": {
    "colab": {
      "name": "Projet_ARDF_ZIEBEL_KLOTZ.ipynb",
      "provenance": [],
      "collapsed_sections": [
        "LHFIR-VQgt8O"
      ],
      "include_colab_link": true
    },
    "kernelspec": {
      "name": "python3",
      "display_name": "Python 3"
    },
    "accelerator": "GPU",
    "widgets": {
      "application/vnd.jupyter.widget-state+json": {
        "6546e81938704f83918e099a7340fa91": {
          "model_module": "@jupyter-widgets/controls",
          "model_name": "HBoxModel",
          "state": {
            "_view_name": "HBoxView",
            "_dom_classes": [],
            "_model_name": "HBoxModel",
            "_view_module": "@jupyter-widgets/controls",
            "_model_module_version": "1.5.0",
            "_view_count": null,
            "_view_module_version": "1.5.0",
            "box_style": "",
            "layout": "IPY_MODEL_5d54c3e46db64bc6b1e5c2dfe1c72cd4",
            "_model_module": "@jupyter-widgets/controls",
            "children": [
              "IPY_MODEL_173592de24d345aab004b89029a07c23",
              "IPY_MODEL_1fb6712dbd6f47269c7e96dce5121209"
            ]
          }
        },
        "5d54c3e46db64bc6b1e5c2dfe1c72cd4": {
          "model_module": "@jupyter-widgets/base",
          "model_name": "LayoutModel",
          "state": {
            "_view_name": "LayoutView",
            "grid_template_rows": null,
            "right": null,
            "justify_content": null,
            "_view_module": "@jupyter-widgets/base",
            "overflow": null,
            "_model_module_version": "1.2.0",
            "_view_count": null,
            "flex_flow": null,
            "width": null,
            "min_width": null,
            "border": null,
            "align_items": null,
            "bottom": null,
            "_model_module": "@jupyter-widgets/base",
            "top": null,
            "grid_column": null,
            "overflow_y": null,
            "overflow_x": null,
            "grid_auto_flow": null,
            "grid_area": null,
            "grid_template_columns": null,
            "flex": null,
            "_model_name": "LayoutModel",
            "justify_items": null,
            "grid_row": null,
            "max_height": null,
            "align_content": null,
            "visibility": null,
            "align_self": null,
            "height": null,
            "min_height": null,
            "padding": null,
            "grid_auto_rows": null,
            "grid_gap": null,
            "max_width": null,
            "order": null,
            "_view_module_version": "1.2.0",
            "grid_template_areas": null,
            "object_position": null,
            "object_fit": null,
            "grid_auto_columns": null,
            "margin": null,
            "display": null,
            "left": null
          }
        },
        "173592de24d345aab004b89029a07c23": {
          "model_module": "@jupyter-widgets/controls",
          "model_name": "IntProgressModel",
          "state": {
            "_view_name": "ProgressView",
            "style": "IPY_MODEL_75c9740975ea43df993a0a220d05e906",
            "_dom_classes": [],
            "description": "",
            "_model_name": "IntProgressModel",
            "bar_style": "success",
            "max": 553433881,
            "_view_module": "@jupyter-widgets/controls",
            "_model_module_version": "1.5.0",
            "value": 553433881,
            "_view_count": null,
            "_view_module_version": "1.5.0",
            "orientation": "horizontal",
            "min": 0,
            "description_tooltip": null,
            "_model_module": "@jupyter-widgets/controls",
            "layout": "IPY_MODEL_307e571fcab9481b9a2cd4b189c8e497"
          }
        },
        "1fb6712dbd6f47269c7e96dce5121209": {
          "model_module": "@jupyter-widgets/controls",
          "model_name": "HTMLModel",
          "state": {
            "_view_name": "HTMLView",
            "style": "IPY_MODEL_e0c4ea01108e454fa8647aa71bd23034",
            "_dom_classes": [],
            "description": "",
            "_model_name": "HTMLModel",
            "placeholder": "​",
            "_view_module": "@jupyter-widgets/controls",
            "_model_module_version": "1.5.0",
            "value": "100% 528M/528M [00:29&lt;00:00, 18.6MB/s]",
            "_view_count": null,
            "_view_module_version": "1.5.0",
            "description_tooltip": null,
            "_model_module": "@jupyter-widgets/controls",
            "layout": "IPY_MODEL_55db94fc8c2748649b54fd52982dccb8"
          }
        },
        "75c9740975ea43df993a0a220d05e906": {
          "model_module": "@jupyter-widgets/controls",
          "model_name": "ProgressStyleModel",
          "state": {
            "_view_name": "StyleView",
            "_model_name": "ProgressStyleModel",
            "description_width": "",
            "_view_module": "@jupyter-widgets/base",
            "_model_module_version": "1.5.0",
            "_view_count": null,
            "_view_module_version": "1.2.0",
            "bar_color": null,
            "_model_module": "@jupyter-widgets/controls"
          }
        },
        "307e571fcab9481b9a2cd4b189c8e497": {
          "model_module": "@jupyter-widgets/base",
          "model_name": "LayoutModel",
          "state": {
            "_view_name": "LayoutView",
            "grid_template_rows": null,
            "right": null,
            "justify_content": null,
            "_view_module": "@jupyter-widgets/base",
            "overflow": null,
            "_model_module_version": "1.2.0",
            "_view_count": null,
            "flex_flow": null,
            "width": null,
            "min_width": null,
            "border": null,
            "align_items": null,
            "bottom": null,
            "_model_module": "@jupyter-widgets/base",
            "top": null,
            "grid_column": null,
            "overflow_y": null,
            "overflow_x": null,
            "grid_auto_flow": null,
            "grid_area": null,
            "grid_template_columns": null,
            "flex": null,
            "_model_name": "LayoutModel",
            "justify_items": null,
            "grid_row": null,
            "max_height": null,
            "align_content": null,
            "visibility": null,
            "align_self": null,
            "height": null,
            "min_height": null,
            "padding": null,
            "grid_auto_rows": null,
            "grid_gap": null,
            "max_width": null,
            "order": null,
            "_view_module_version": "1.2.0",
            "grid_template_areas": null,
            "object_position": null,
            "object_fit": null,
            "grid_auto_columns": null,
            "margin": null,
            "display": null,
            "left": null
          }
        },
        "e0c4ea01108e454fa8647aa71bd23034": {
          "model_module": "@jupyter-widgets/controls",
          "model_name": "DescriptionStyleModel",
          "state": {
            "_view_name": "StyleView",
            "_model_name": "DescriptionStyleModel",
            "description_width": "",
            "_view_module": "@jupyter-widgets/base",
            "_model_module_version": "1.5.0",
            "_view_count": null,
            "_view_module_version": "1.2.0",
            "_model_module": "@jupyter-widgets/controls"
          }
        },
        "55db94fc8c2748649b54fd52982dccb8": {
          "model_module": "@jupyter-widgets/base",
          "model_name": "LayoutModel",
          "state": {
            "_view_name": "LayoutView",
            "grid_template_rows": null,
            "right": null,
            "justify_content": null,
            "_view_module": "@jupyter-widgets/base",
            "overflow": null,
            "_model_module_version": "1.2.0",
            "_view_count": null,
            "flex_flow": null,
            "width": null,
            "min_width": null,
            "border": null,
            "align_items": null,
            "bottom": null,
            "_model_module": "@jupyter-widgets/base",
            "top": null,
            "grid_column": null,
            "overflow_y": null,
            "overflow_x": null,
            "grid_auto_flow": null,
            "grid_area": null,
            "grid_template_columns": null,
            "flex": null,
            "_model_name": "LayoutModel",
            "justify_items": null,
            "grid_row": null,
            "max_height": null,
            "align_content": null,
            "visibility": null,
            "align_self": null,
            "height": null,
            "min_height": null,
            "padding": null,
            "grid_auto_rows": null,
            "grid_gap": null,
            "max_width": null,
            "order": null,
            "_view_module_version": "1.2.0",
            "grid_template_areas": null,
            "object_position": null,
            "object_fit": null,
            "grid_auto_columns": null,
            "margin": null,
            "display": null,
            "left": null
          }
        }
      }
    }
  },
  "cells": [
    {
      "cell_type": "markdown",
      "metadata": {
        "id": "view-in-github",
        "colab_type": "text"
      },
      "source": [
        "<a href=\"https://colab.research.google.com/github/eklz/Project-ML-Adversarial/blob/master/Projet_Adversarial_eklz.ipynb\" target=\"_parent\"><img src=\"https://colab.research.google.com/assets/colab-badge.svg\" alt=\"Open In Colab\"/></a>"
      ]
    },
    {
      "cell_type": "markdown",
      "metadata": {
        "id": "O0Hoy-9vSLQa",
        "colab_type": "text"
      },
      "source": [
        "#Projet \"apprentissage par ordinateur et exemples adversaires\"\n",
        "### Emile KLOTZ\n",
        "\n",
        "Le projet porte sur un problème d'apprentissage \"simple\" (classification binaire), mais, à travers le prisme des exemples adversaires.\n",
        "\n",
        "Le projet s'effectue sur les données http://www.nlpr.ia.ac.cn/pal/trafficdata/recognition.html\n",
        "\n"
      ]
    },
    {
      "cell_type": "markdown",
      "metadata": {
        "id": "3EhiOqpqTHBq",
        "colab_type": "text"
      },
      "source": [
        "###Définition du chemin vers les données\n",
        "\n",
        "Le code ci dessous permet de charger les données présentes dans un répértoire Google Drive"
      ]
    },
    {
      "cell_type": "code",
      "metadata": {
        "id": "YYwihhLNS66V",
        "colab_type": "code",
        "colab": {}
      },
      "source": [
        "from google.colab import drive\n",
        "drive.mount('/content/gdrive')\n",
        "\n",
        "Projet_DIR = \"/content/gdrive/My Drive/TP_ARDF/\""
      ],
      "execution_count": 0,
      "outputs": []
    },
    {
      "cell_type": "markdown",
      "metadata": {
        "id": "dvuc3qhjT0zD",
        "colab_type": "text"
      },
      "source": [
        "##Prise en main et modification des données\n",
        "\n",
        "Le code ci dessous permet de charger les données:\n",
        "- Ce jeu de données permet de faire de la classification multiclasses, mais, il sera rendu binaire pour plus de simplicité: les 16 premières classes seront regroupés (limitation de vitesse et interdiction de tourner) dans la classe 1, tous les autres paneaux sont regroupés dans la classe 2.\n",
        "\n",
        "- De plus, afin de faciliter le traitement des images, toutes les images seront ramener à des images 96x96.\n",
        "\n",
        "- Enfin on vient transformer cet ensemble d'image en 4 matrices : - Xtrain - Xtest - Ytrain - Ytest\n",
        "\n",
        "\n",
        "\n"
      ]
    },
    {
      "cell_type": "markdown",
      "metadata": {
        "id": "UHroOPDoZyQz",
        "colab_type": "text"
      },
      "source": [
        "**Le code ci dessous mets trop longtemps à s'executer on l'execute donc en local puis on importe les matrices enregistrées**"
      ]
    },
    {
      "cell_type": "code",
      "metadata": {
        "id": "f9LX4UrkVF87",
        "colab_type": "code",
        "outputId": "02c63720-2924-4a01-c8b9-98a7b118e8c6",
        "colab": {
          "base_uri": "https://localhost:8080/",
          "height": 69
        }
      },
      "source": [
        "import csv\n",
        "import numpy as np\n",
        "import PIL\n",
        "import PIL.Image\n",
        "import os\n",
        "\n",
        "print(\"LOADING DATA\")\n",
        "print(\"rescaling all images at 96x96\")\n",
        "print(\"merging classes in 2 super classes (speed limit and turn interdiction vs all)\")\n",
        "Xtrain = np.zeros((4170,3,96,96),dtype=int)\n",
        "Ytrain = np.zeros(4170,dtype=int)\n",
        "Xtest = np.zeros((1994,3,96,96),dtype=int)\n",
        "Ytest = np.zeros(1994,dtype=int)\n",
        "\n",
        "\n",
        "with open(os.path.join(Projet_DIR,\"TSRD-TrainAnnotation/TsignRecgTrain4170Annotation.txt\")) as f:\n",
        "    reader = csv.reader(f,delimiter=\";\")\n",
        "\n",
        "    for i,row in enumerate(reader):\n",
        "        #  Les images chargées sont redimensionnées en 96*96*3\n",
        "        image3D = np.asarray(PIL.Image.open(os.path.join(Projet_DIR,\"tsrd-train/\"+row[0])).convert(\"RGB\").copy().resize((96,96)),dtype=float)\n",
        "        Xtrain[i] = np.transpose(image3D,(2,0,1))\n",
        "        #  Les 16 premières classes seront regroupés (limitation de vitesse et interdiction de tourner) dans la classe 0, tous les autres paneaux sont regroupés dans la classe 1.\n",
        "        if int(row[7])<16:\n",
        "            Ytrain[i] = 0\n",
        "        else:\n",
        "            Ytrain[i] = 1\n",
        "\n",
        "        \n",
        "print(\"nb of samples with class 0/1 in train=\",4170-np.sum(Ytrain),\"/\",np.sum(Ytrain))\n",
        "\n",
        "# On fait la même chose avec les images de test\n",
        "with open(os.path.join(Projet_DIR,\"TSRD-TestAnnotation/TsignRecgTest1994Annotation.txt\")) as f:\n",
        "    reader = csv.reader(f,delimiter=\";\")\n",
        "    for i,row in enumerate(reader):\n",
        "      image3D = np.asarray(PIL.Image.open(os.path.join(Projet_DIR,\"TSRD-Test/\"+row[0])).convert(\"RGB\").copy().resize((96,96)),dtype=float)\n",
        "      Xtest[i] = np.transpose(image3D,(2,0,1))\n",
        "      if int(row[7])<16:\n",
        "        Ytest[i] = 0\n",
        "      else:\n",
        "        Ytest[i] = 1\n",
        "\n",
        "\n",
        "print(\"nb of samples with class 0/1 in test=\",1994-np.sum(Ytest),\"/\",np.sum(Ytest))\n"
      ],
      "execution_count": 0,
      "outputs": [
        {
          "output_type": "stream",
          "text": [
            "LOADING DATA\n",
            "rescaling all images at 96x96\n",
            "merging classes in 2 super classes (speed limit and turn interdiction vs all)\n"
          ],
          "name": "stdout"
        }
      ]
    },
    {
      "cell_type": "markdown",
      "metadata": {
        "id": "9LSmxh7MocUh",
        "colab_type": "text"
      },
      "source": [
        "**On peut importer directement les matrices enregistrées en .NPY**"
      ]
    },
    {
      "cell_type": "code",
      "metadata": {
        "id": "YrLhZpZzkCzr",
        "colab_type": "code",
        "outputId": "c9fe857d-9c8b-4f0d-b7cb-57ff8efe3832",
        "colab": {
          "base_uri": "https://localhost:8080/",
          "height": 87
        }
      },
      "source": [
        "import csv\n",
        "import numpy as np\n",
        "import PIL\n",
        "import PIL.Image\n",
        "import os\n",
        "Xtest=np.load((os.path.join(Projet_DIR,\"Xtest.npy\")))\n",
        "Ytest=np.load((os.path.join(Projet_DIR,\"Ytest.npy\")))\n",
        "Xtrain=np.load((os.path.join(Projet_DIR,\"Xtrain.npy\")))\n",
        "Ytrain=np.load((os.path.join(Projet_DIR,\"Ytrain.npy\")))\n",
        "print(np.shape(Xtrain))\n",
        "print(np.shape(Xtest))\n",
        "print(\"nb of samples with class 0/1 in train=\",4170-np.sum(Ytrain),\"/\",np.sum(Ytrain))\n",
        "print(\"nb of samples with class 0/1 in test=\",1994-np.sum(Ytest),\"/\",np.sum(Ytest))"
      ],
      "execution_count": 0,
      "outputs": [
        {
          "output_type": "stream",
          "text": [
            "(4170, 3, 96, 96)\n",
            "(1994, 3, 96, 96)\n",
            "nb of samples with class 0/1 in train= 1520 / 2650\n",
            "nb of samples with class 0/1 in test= 724 / 1270\n"
          ],
          "name": "stdout"
        }
      ]
    },
    {
      "cell_type": "markdown",
      "metadata": {
        "id": "avWJ7JD1okfA",
        "colab_type": "text"
      },
      "source": [
        "##Référence sur les adversariaux\n",
        "\n",
        "Indépendamment, voilà quelques liens vers des articles de référence sur les adversariaux\n",
        "\n",
        "* Une introduction au problème des adversariaux : www.tensorflow.org/tutorials/generative/adversarial_fgsm\n",
        "* L'article correspondant arxiv.org/abs/1412.6572\n",
        "\n",
        "Du coté de la méthode de référence de \"protection\" contre les adversariaux\n",
        "* apprendre sur des données adversaires limites leur effet arxiv.org/abs/1710.10571\n",
        "* apprendre sur la pire données adversaires possibles permet d'avoir une robustesse certaines arxiv.org/abs/1711.00851\n",
        "\n",
        "**Important** : générer des données adversaires est très simple quand on a accès au gradient vis à vis de l'image elle même (typiquement si le modèle est du deep learning). Mais c'est possible aussi en approximant le gradient d'un modèle non deep : arxiv.org/pdf/1602.02697.pdf !\n"
      ]
    },
    {
      "cell_type": "markdown",
      "metadata": {
        "id": "C8Y18xLIpRK6",
        "colab_type": "text"
      },
      "source": [
        "##La dérivée par rapport aux données\n",
        "\n",
        "Nous avons vu en cours que la façon même d'apprendre les poids des réseaux de neurones passe \n",
        "- par le calcul des dérivées par rapport aux valeurs des neurones\n",
        "- sachant que la dérivée par rapport à un neurones se calcule via la dérivée par rapport aux neurones suivants\n",
        "\n",
        "Cela s'applique aux valeurs des entrées !\n",
        "\n",
        "Informatiquement, il suffit de préciser qu'on veut stocker ces dérivées pour qu'elle soit calculées en utilisant *loss.backward()*\n"
      ]
    },
    {
      "cell_type": "code",
      "metadata": {
        "id": "c8LJFGOZpWD4",
        "colab_type": "code",
        "outputId": "f878b462-e289-459c-c0cd-40375cd0989d",
        "colab": {
          "base_uri": "https://localhost:8080/",
          "height": 312
        }
      },
      "source": [
        "import torch\n",
        "import torch.nn as nn\n",
        "\n",
        "import torch.autograd\n",
        "import torch.autograd.variable\n",
        "\n",
        "mytarget = torch.randn(1,1,4,4)\n",
        "myinput = torch.autograd.Variable(torch.randn(1,3,4,4),requires_grad=True)\n",
        "mymodel = nn.Conv2d(3,1,kernel_size=3, padding=1)\n",
        "\n",
        "myloss = torch.sum((mytarget-mymodel(myinput))*(mytarget-mymodel(myinput)))\n",
        "\n",
        "print(\"classical learning aims to optimize weights of mymodel to decrease loss\")\n",
        "print(\"but here, one could optimize value of myinput to increase the loss eventually producing an adversarial example\")\n",
        "\n",
        "print(myloss)\n",
        "myloss.backward()\n",
        "\n",
        "print(\"here is the gradient of myloss regarding myinput\",myinput.grad.data)\n"
      ],
      "execution_count": 0,
      "outputs": [
        {
          "output_type": "stream",
          "text": [
            "classical learning aims to optimize weights of mymodel to decrease loss\n",
            "but here, one could optimize value of myinput to increase the loss eventually producing an adversarial example\n",
            "tensor(16.3831, grad_fn=<SumBackward0>)\n",
            "here is the gradient of myloss regarding myinput tensor([[[[ 0.2011,  0.7462,  0.1232, -0.2176],\n",
            "          [ 0.1425,  0.9595, -0.0755, -0.4835],\n",
            "          [ 0.8576,  0.7974, -0.1685, -0.2317],\n",
            "          [ 0.1787,  0.0275,  0.3288,  0.0316]],\n",
            "\n",
            "         [[-0.1667,  0.4193,  0.5141, -0.2238],\n",
            "          [ 0.2514,  0.8137, -0.9551, -0.3230],\n",
            "          [-0.4752,  0.3194,  0.9706,  0.0412],\n",
            "          [-0.0233,  0.3924,  0.1798, -0.6148]],\n",
            "\n",
            "         [[ 1.0483,  0.6464, -0.0705, -0.8824],\n",
            "          [-0.8842, -1.3365, -0.1378,  0.5013],\n",
            "          [ 0.5948,  1.0562,  0.2981, -0.1826],\n",
            "          [-0.5211, -0.7414, -0.3723,  0.2784]]]])\n"
          ],
          "name": "stdout"
        }
      ]
    },
    {
      "cell_type": "markdown",
      "metadata": {
        "id": "Kj8ZvJ3zpZPw",
        "colab_type": "text"
      },
      "source": [
        "##Une baseline\n",
        "\n",
        "Comme baseline pour commencer, il est possible (mais pas obligatoire) de considérer l'encodeur d'un VGG16 (2 convolutions - 1 pooling - 2 convolutions - 1 pooling - 3 convolutions - 1 pooling - 3 convolution - 1 pooling - 3 convolution - 1 pooling).\n",
        "\n",
        "Appliqué à une image 3x96x96, la sortie sera une image 512x3x3 à laquel on appliquera un dernier pooling 3x3 stride 1 sans padding pour obtenir un vecteur de dimension 512, il faudra ensuite ajouter un dernier neurone pour passer de 512 à 2 valeurs (pour apprendre avec une cross entropy - 1 valeur si vous voulez apprendre en en hinge loss).\n",
        "\n",
        "**le modèle VGG est directement téléchargeable depuis des dépôts pytorch**"
      ]
    },
    {
      "cell_type": "code",
      "metadata": {
        "id": "nVInTujtpbhp",
        "colab_type": "code",
        "outputId": "57f951f9-436d-41e2-ecba-93c25a7ef015",
        "colab": {
          "base_uri": "https://localhost:8080/",
          "height": 84,
          "referenced_widgets": [
            "6546e81938704f83918e099a7340fa91",
            "5d54c3e46db64bc6b1e5c2dfe1c72cd4",
            "173592de24d345aab004b89029a07c23",
            "1fb6712dbd6f47269c7e96dce5121209",
            "75c9740975ea43df993a0a220d05e906",
            "307e571fcab9481b9a2cd4b189c8e497",
            "e0c4ea01108e454fa8647aa71bd23034",
            "55db94fc8c2748649b54fd52982dccb8"
          ]
        }
      },
      "source": [
        "\n",
        "import torchvision\n",
        "\n",
        "monvgg16 = torchvision.models.vgg16(pretrained=True, progress=True)"
      ],
      "execution_count": 0,
      "outputs": [
        {
          "output_type": "stream",
          "text": [
            "Downloading: \"https://download.pytorch.org/models/vgg16-397923af.pth\" to /root/.cache/torch/checkpoints/vgg16-397923af.pth\n"
          ],
          "name": "stderr"
        },
        {
          "output_type": "display_data",
          "data": {
            "application/vnd.jupyter.widget-view+json": {
              "model_id": "6546e81938704f83918e099a7340fa91",
              "version_minor": 0,
              "version_major": 2
            },
            "text/plain": [
              "HBox(children=(IntProgress(value=0, max=553433881), HTML(value='')))"
            ]
          },
          "metadata": {
            "tags": []
          }
        },
        {
          "output_type": "stream",
          "text": [
            "\n"
          ],
          "name": "stdout"
        }
      ]
    },
    {
      "cell_type": "code",
      "metadata": {
        "id": "GkQMjdyepgR4",
        "colab_type": "code",
        "outputId": "d1e32b48-e8bb-4611-f823-4d7fa94d8da6",
        "colab": {
          "base_uri": "https://localhost:8080/",
          "height": 35
        }
      },
      "source": [
        "tensortest = torch.randn(1,3,96,96)\n",
        "print(monvgg16.features(tensortest).shape)"
      ],
      "execution_count": 0,
      "outputs": [
        {
          "output_type": "stream",
          "text": [
            "torch.Size([1, 512, 3, 3])\n"
          ],
          "name": "stdout"
        }
      ]
    },
    {
      "cell_type": "code",
      "metadata": {
        "id": "5pABJHA0p44I",
        "colab_type": "code",
        "outputId": "e9982222-b3ff-4796-8a8e-9cfd8262f1f5",
        "colab": {
          "base_uri": "https://localhost:8080/",
          "height": 35
        }
      },
      "source": [
        "monvgg16.avgpool = nn.AvgPool2d(kernel_size=(3, 3))\n",
        "monvgg16.classifier = None\n",
        "monvgg16.classifier = nn.Linear(512,2)\n",
        "print(monvgg16(tensortest).shape)"
      ],
      "execution_count": 0,
      "outputs": [
        {
          "output_type": "stream",
          "text": [
            "torch.Size([1, 2])\n"
          ],
          "name": "stdout"
        }
      ]
    },
    {
      "cell_type": "code",
      "metadata": {
        "id": "gi7oVQDqtyCS",
        "colab_type": "code",
        "outputId": "53b0e82f-5579-4b7d-fb1f-55bc070945d8",
        "colab": {
          "base_uri": "https://localhost:8080/",
          "height": 659
        }
      },
      "source": [
        "monvgg16.eval()"
      ],
      "execution_count": 0,
      "outputs": [
        {
          "output_type": "execute_result",
          "data": {
            "text/plain": [
              "VGG(\n",
              "  (features): Sequential(\n",
              "    (0): Conv2d(3, 64, kernel_size=(3, 3), stride=(1, 1), padding=(1, 1))\n",
              "    (1): ReLU(inplace=True)\n",
              "    (2): Conv2d(64, 64, kernel_size=(3, 3), stride=(1, 1), padding=(1, 1))\n",
              "    (3): ReLU(inplace=True)\n",
              "    (4): MaxPool2d(kernel_size=2, stride=2, padding=0, dilation=1, ceil_mode=False)\n",
              "    (5): Conv2d(64, 128, kernel_size=(3, 3), stride=(1, 1), padding=(1, 1))\n",
              "    (6): ReLU(inplace=True)\n",
              "    (7): Conv2d(128, 128, kernel_size=(3, 3), stride=(1, 1), padding=(1, 1))\n",
              "    (8): ReLU(inplace=True)\n",
              "    (9): MaxPool2d(kernel_size=2, stride=2, padding=0, dilation=1, ceil_mode=False)\n",
              "    (10): Conv2d(128, 256, kernel_size=(3, 3), stride=(1, 1), padding=(1, 1))\n",
              "    (11): ReLU(inplace=True)\n",
              "    (12): Conv2d(256, 256, kernel_size=(3, 3), stride=(1, 1), padding=(1, 1))\n",
              "    (13): ReLU(inplace=True)\n",
              "    (14): Conv2d(256, 256, kernel_size=(3, 3), stride=(1, 1), padding=(1, 1))\n",
              "    (15): ReLU(inplace=True)\n",
              "    (16): MaxPool2d(kernel_size=2, stride=2, padding=0, dilation=1, ceil_mode=False)\n",
              "    (17): Conv2d(256, 512, kernel_size=(3, 3), stride=(1, 1), padding=(1, 1))\n",
              "    (18): ReLU(inplace=True)\n",
              "    (19): Conv2d(512, 512, kernel_size=(3, 3), stride=(1, 1), padding=(1, 1))\n",
              "    (20): ReLU(inplace=True)\n",
              "    (21): Conv2d(512, 512, kernel_size=(3, 3), stride=(1, 1), padding=(1, 1))\n",
              "    (22): ReLU(inplace=True)\n",
              "    (23): MaxPool2d(kernel_size=2, stride=2, padding=0, dilation=1, ceil_mode=False)\n",
              "    (24): Conv2d(512, 512, kernel_size=(3, 3), stride=(1, 1), padding=(1, 1))\n",
              "    (25): ReLU(inplace=True)\n",
              "    (26): Conv2d(512, 512, kernel_size=(3, 3), stride=(1, 1), padding=(1, 1))\n",
              "    (27): ReLU(inplace=True)\n",
              "    (28): Conv2d(512, 512, kernel_size=(3, 3), stride=(1, 1), padding=(1, 1))\n",
              "    (29): ReLU(inplace=True)\n",
              "    (30): MaxPool2d(kernel_size=2, stride=2, padding=0, dilation=1, ceil_mode=False)\n",
              "  )\n",
              "  (avgpool): AvgPool2d(kernel_size=(3, 3), stride=(3, 3), padding=0)\n",
              "  (classifier): Linear(in_features=512, out_features=2, bias=True)\n",
              ")"
            ]
          },
          "metadata": {
            "tags": []
          },
          "execution_count": 92
        }
      ]
    },
    {
      "cell_type": "markdown",
      "metadata": {
        "id": "oNyncl9nzwgW",
        "colab_type": "text"
      },
      "source": [
        "## Entrainement du model"
      ]
    },
    {
      "cell_type": "code",
      "metadata": {
        "id": "Mx85NrOnh6xp",
        "colab_type": "code",
        "colab": {}
      },
      "source": [
        "from tqdm import tqdm # for progress bars\n",
        "from sklearn.metrics import confusion_matrix\n",
        "from IPython.display import clear_output\n",
        "import numpy as np\n",
        "import matplotlib.pyplot as plt\n",
        "\n",
        "# Pytorch\n",
        "import torch # deep learning framework\n",
        "import torchvision\n",
        "import torchvision.transforms as transforms\n",
        "import torch.nn.functional as F\n",
        "import torch.nn as nn\n",
        "\n",
        "classes = (1,2)"
      ],
      "execution_count": 0,
      "outputs": []
    },
    {
      "cell_type": "code",
      "metadata": {
        "id": "IzOX8rweKFGe",
        "colab_type": "code",
        "colab": {}
      },
      "source": [
        "import torch\n",
        "from torch.utils import data\n",
        "\n",
        "BATCH_SIZE = 16\n",
        "\n",
        "Xtrain=Xtrain/np.max(Xtrain)\n",
        "Xtest=Xtest/np.max(Xtest)\n",
        "\n",
        "tensor_Xtrain = torch.Tensor(Xtrain) # transform to torch tensor\n",
        "tensor_Ytrain = torch.Tensor(Ytrain)\n",
        "\n",
        "train_dataset = data.TensorDataset(tensor_Xtrain,tensor_Ytrain) # create datset\n",
        "train_dataloader = data.DataLoader(train_dataset,\n",
        "       batch_size=BATCH_SIZE, shuffle=True, num_workers=2)\n",
        "\n",
        "\n",
        "tensor_Xtest = torch.Tensor(Xtest)\n",
        "tensor_Ytest = torch.Tensor(Ytest)\n",
        "test_dataset = data.TensorDataset(tensor_Xtest,tensor_Ytest)\n",
        "test_dataloader = data.DataLoader(test_dataset,\n",
        "      batch_size=1, shuffle=True, num_workers=2)"
      ],
      "execution_count": 0,
      "outputs": []
    },
    {
      "cell_type": "code",
      "metadata": {
        "id": "kTgHnBpS5UGg",
        "colab_type": "code",
        "colab": {}
      },
      "source": [
        "\n",
        "from torch import optim\n",
        "criteria = nn.CrossEntropyLoss()\n",
        "optimizer = optim.SGD(monvgg16.parameters(), lr = 0.005, momentum = 0.5)"
      ],
      "execution_count": 0,
      "outputs": []
    },
    {
      "cell_type": "code",
      "metadata": {
        "id": "5X81KGY05Xop",
        "colab_type": "code",
        "colab": {}
      },
      "source": [
        "def train (model, loader, criterion, gpu):\n",
        "    model.train()\n",
        "    current_loss = 0\n",
        "    current_correct = 0\n",
        "    i=0\n",
        "    for data in loader:\n",
        "        i+=1\n",
        "        if i%500==0:\n",
        "          print(i)\n",
        "        train, y_train = data\n",
        "        if gpu:\n",
        "            train, y_train = train.to('cuda'), y_train.to('cuda')\n",
        "        optimizer.zero_grad()\n",
        "        output = model.forward(train)\n",
        "        _, preds = torch.max(output,1)\n",
        "        loss = criterion(output, y_train.long())\n",
        "        loss.backward()\n",
        "        optimizer.step()\n",
        "        current_loss += loss.item()*train.size(0)\n",
        "        current_correct += torch.sum(preds == y_train.data)\n",
        "    epoch_loss = current_loss / len(train_dataloader.dataset)\n",
        "    epoch_acc = current_correct.double() / len(train_dataloader.dataset)\n",
        "        \n",
        "    return epoch_loss, epoch_acc"
      ],
      "execution_count": 0,
      "outputs": []
    },
    {
      "cell_type": "code",
      "metadata": {
        "id": "nsrdC29m5gzb",
        "colab_type": "code",
        "colab": {}
      },
      "source": [
        "def validation (model, loader, criterion, gpu):\n",
        "    model.eval()\n",
        "    valid_loss = 0\n",
        "    valid_correct = 0\n",
        "    for valid, y_valid in iter(loader):\n",
        "        if gpu:\n",
        "            valid, y_valid = valid.to('cuda'), y_valid.to('cuda')\n",
        "        output = model.forward(valid)\n",
        "        valid_loss += criterion(output, y_valid).item()*valid.size(0)\n",
        "        equal = (output.max(dim=1)[1] == y_valid.data)\n",
        "        valid_correct += torch.sum(equal)#type(torch.FloatTensor)\n",
        "    \n",
        "    epoch_loss = valid_loss / len(val_dataloader.dataset)\n",
        "    epoch_acc = valid_correct.double() / len(val_dataloader.dataset)\n",
        "    \n",
        "    return epoch_loss, epoch_acc"
      ],
      "execution_count": 0,
      "outputs": []
    },
    {
      "cell_type": "code",
      "metadata": {
        "id": "8-ELKTSO5x7E",
        "colab_type": "code",
        "colab": {}
      },
      "source": [
        "gpu=True\n",
        "#freeze gradient parameters in pretrained model\n",
        "for param in monvgg16.parameters():\n",
        "    param.require_grad = False\n",
        "#train and validate\n",
        "epochs = 10  \n",
        "epoch = 0\n",
        "#send model to GPU\n",
        "if gpu:\n",
        "    monvgg16.to('cuda')\n",
        "    \n",
        "for e in range(epochs):\n",
        "    epoch +=1\n",
        "    print(epoch)\n",
        "    with torch.set_grad_enabled(True):\n",
        "        epoch_train_loss, epoch_train_acc = train(monvgg16,train_dataloader, criteria, gpu)\n",
        "    print(\"Epoch: {} Train Loss : {:.4f}  Train Accuracy: {:.4f}\".format(epoch,epoch_train_loss,epoch_train_acc))\n",
        "with torch.no_grad():\n",
        "        epoch_val_loss, epoch_val_acc = validation(monvgg16, val_dataloader, criteria, gpu)\n",
        "print(\"Epoch: {} Validation Loss : {:.4f}  Validation Accuracy {:.4f}\".format(epoch,epoch_val_loss,epoch_val_acc))"
      ],
      "execution_count": 0,
      "outputs": []
    },
    {
      "cell_type": "code",
      "metadata": {
        "id": "XwJ7w6djEyzk",
        "colab_type": "code",
        "colab": {}
      },
      "source": [
        "monvgg16.eval()\n",
        "total = 0\n",
        "correct = 0 \n",
        "count = 0\n",
        "#iterating for each sample in the test dataset once\n",
        "for test, y_test in iter(test_dataloader):\n",
        "    test, y_test = test.to('cuda'), y_test.to('cuda')\n",
        "#Calculate the class probabilities (softmax) for img\n",
        "    with torch.no_grad():\n",
        "        output = monvgg16.forward(test)\n",
        "        ps = torch.exp(output)\n",
        "        _, predicted = torch.max(output.data,1)\n",
        "        total += y_test.size(0)\n",
        "        correct += (predicted == y_test).sum().item() \n",
        "        count += 1\n",
        "        print(\"Accuracy of network on test images is ... {:.4f}....count: {}\".format(100*correct/total,  count ))"
      ],
      "execution_count": 0,
      "outputs": []
    },
    {
      "cell_type": "code",
      "metadata": {
        "id": "509Vr5pDNkFv",
        "colab_type": "code",
        "colab": {}
      },
      "source": [
        "import matplotlib.pyplot as plt\n",
        "\n",
        "images, labels = next(iter(train_dataloader))\n",
        "class_names = train_dataloader.classes\n",
        "print(class_names)\n",
        "rows = 4\n",
        "columns = 4\n",
        "fig=plt.figure()\n",
        "for i in range(16):\n",
        "   fig.add_subplot(rows, columns, i+1)\n",
        "   plt.title(class_names[labels[i]])\n",
        "   img = images[i].numpy().transpose((1, 2, 0))\n",
        "   img = std * img + mean\n",
        "   plt.imshow(img)\n",
        "plt.show()"
      ],
      "execution_count": 0,
      "outputs": []
    },
    {
      "cell_type": "markdown",
      "metadata": {
        "id": "KLQmAn8i3jSu",
        "colab_type": "text"
      },
      "source": [
        "La fonction de loss cross_entropy donnes des resultats sur l'apprentissage qui sont bien meilleures du fait même de sa définition. De plus on ne peut pas entrainer avec la fonction de loss L2 sur des tailles de Batch supérieur à 1 ce qui entraine une durée d'entrainement bien plus élevée et un précision moindre. \n",
        "\n",
        "\n",
        "Cependant travailler avec L2 et des batchs de 1 permettra de creer des Adversarial plus efficaces l'algorithme d'apprentissage étant moins robuste et bazé sur la dérivée par rapport aux données. "
      ]
    },
    {
      "cell_type": "markdown",
      "metadata": {
        "id": "HB9qyLfr4jUX",
        "colab_type": "text"
      },
      "source": [
        "#Adversarial FSGM"
      ]
    },
    {
      "cell_type": "code",
      "metadata": {
        "id": "gKeqqUfF4t8F",
        "colab_type": "code",
        "colab": {}
      },
      "source": [
        "import matplotlib as mpl\n",
        "import matplotlib.pyplot as plt\n",
        "monvgg16.cuda()\n",
        "monvgg16.eval()\n",
        "monvgg16.trainable=False\n",
        "\n",
        "#Petit test pour voir si on arrive bien a faire la prediction sur une image et non tout le Dataloader\n",
        "for i in range(10):\n",
        "  n=randint(0,len(Xtest))\n",
        "  image=torch.Tensor([Xtest[n]]).to('cuda')\n",
        "  output=monvgg16(image)\n",
        "  output_np = output.cpu().detach().numpy()\n",
        "  print(np.argmax(output_np, axis=1).ravel(),Ytest[n])\n"
      ],
      "execution_count": 0,
      "outputs": []
    },
    {
      "cell_type": "code",
      "metadata": {
        "id": "ef8VqUlb_4xd",
        "colab_type": "code",
        "outputId": "df20b8dd-2461-43ce-fc8a-1b1af109c8aa",
        "colab": {
          "base_uri": "https://localhost:8080/",
          "height": 281
        }
      },
      "source": [
        "n=randint(0,len(Xtest))\n",
        "image=torch.Tensor([Xtest[n]]).to('cuda')\n",
        "label=torch.Tensor([Ytest[n]]).to('cuda')\n",
        "\n",
        "plt.figure()\n",
        "plt.imshow(np.transpose(Xtest[n],(1,2,0)))\n",
        "\n",
        "output=monvgg16(image)\n",
        "prob = F.softmax(output, 1)\n",
        "prob=prob.cpu().detach().numpy()\n",
        "\n",
        "ind=np.argmax(prob, axis=1)[0]\n",
        "\n",
        "image_class=classes[ind]\n",
        "class_confidence=prob[0][ind]\n",
        "\n",
        "plt.title('Classe {} : {:.2f}% probabilité'.format(image_class, class_confidence*100))\n",
        "plt.show()"
      ],
      "execution_count": 0,
      "outputs": [
        {
          "output_type": "display_data",
          "data": {
            "image/png": "[encoded data removed]",
            "text/plain": [
              "<Figure size 432x288 with 1 Axes>"
            ]
          },
          "metadata": {
            "tags": []
          }
        }
      ]
    },
    {
      "cell_type": "code",
      "metadata": {
        "id": "AHwT_7QuFwXU",
        "colab_type": "code",
        "colab": {}
      },
      "source": [
        "epsilons = [0, .05, .1, .15, .2, .25, .3]\n"
      ],
      "execution_count": 0,
      "outputs": []
    },
    {
      "cell_type": "code",
      "metadata": {
        "id": "ZjET5ASQb1LC",
        "colab_type": "code",
        "colab": {}
      },
      "source": [
        "from __future__ import print_function\n",
        "import torch.nn.functional as F\n",
        "import torch.optim as optim\n",
        "from torchvision import datasets, transforms\n"
      ],
      "execution_count": 0,
      "outputs": []
    },
    {
      "cell_type": "code",
      "metadata": {
        "id": "LYGivn-3b_cZ",
        "colab_type": "code",
        "colab": {}
      },
      "source": [
        "epsilons = [0, 0.01, 0.025, .05, 0.06, 0.075, .1]\n",
        "pretrained_model = monvgg16\n",
        "use_cuda=True"
      ],
      "execution_count": 0,
      "outputs": []
    },
    {
      "cell_type": "code",
      "metadata": {
        "id": "3nM0KUAQcWD_",
        "colab_type": "code",
        "colab": {}
      },
      "source": [
        "def fgsm_attack(image, epsilon, data_grad):\n",
        "    # Collect the element-wise sign of the data gradient\n",
        "    sign_data_grad = data_grad.sign()\n",
        "    # Create the perturbed image by adjusting each pixel of the input image\n",
        "    perturbed_image = image + epsilon*sign_data_grad\n",
        "    # Adding clipping to maintain [0,1] range\n",
        "    perturbed_image = torch.clamp(perturbed_image, 0, 1)\n",
        "    # Return the perturbed image\n",
        "    return perturbed_image"
      ],
      "execution_count": 0,
      "outputs": []
    },
    {
      "cell_type": "code",
      "metadata": {
        "id": "p391Orqhc8ri",
        "colab_type": "code",
        "colab": {}
      },
      "source": [
        "def test( model, device, test_loader, epsilon ):\n",
        "\n",
        "    # Accuracy counter\n",
        "    correct = 0\n",
        "    adv_examples = []\n",
        "\n",
        "    # Loop over all examples in test set\n",
        "    for data, target in test_loader:\n",
        "\n",
        "        # Send the data and label to the device\n",
        "        data, target = data.to(device), target.to(device)\n",
        "\n",
        "        # Set requires_grad attribute of tensor. Important for Attack\n",
        "        data.requires_grad = True\n",
        "\n",
        "        # Forward pass the data through the model\n",
        "        output = model(data)\n",
        "        init_pred = output.max(1, keepdim=True)[1] # get the index of the max log-probability\n",
        "\n",
        "        # If the initial prediction is wrong, dont bother attacking, just move on\n",
        "        if init_pred.item() != target.item():\n",
        "            continue\n",
        "\n",
        "        # Calculate the loss\n",
        "        loss = F.nll_loss(output, target.long())\n",
        "\n",
        "        # Zero all existing gradients\n",
        "        model.zero_grad()\n",
        "\n",
        "        # Calculate gradients of model in backward pass\n",
        "        loss.backward()\n",
        "\n",
        "        # Collect datagrad\n",
        "        data_grad = data.grad.data\n",
        "\n",
        "        # Call FGSM Attack\n",
        "        perturbed_data = fgsm_attack(data, epsilon, data_grad)\n",
        "\n",
        "        # Re-classify the perturbed image\n",
        "        output = model(perturbed_data)\n",
        "\n",
        "        # Check for success\n",
        "        final_pred = output.max(1, keepdim=True)[1] # get the index of the max log-probability\n",
        "        if final_pred.item() == target.item():\n",
        "            correct += 1\n",
        "            # Special case for saving 0 epsilon examples\n",
        "            if (epsilon == 0) and (len(adv_examples) < 5):\n",
        "                adv_ex = perturbed_data.squeeze().detach().cpu().numpy()\n",
        "                adv_examples.append( (init_pred.item(), final_pred.item(), adv_ex) )\n",
        "        else:\n",
        "            # Save some adv examples for visualization later\n",
        "            if len(adv_examples) < 5:\n",
        "                adv_ex = perturbed_data.squeeze().detach().cpu().numpy()\n",
        "                adv_examples.append( (init_pred.item(), final_pred.item(), adv_ex) )\n",
        "\n",
        "    # Calculate final accuracy for this epsilon\n",
        "    final_acc = correct/float(len(test_loader))\n",
        "    print(\"Epsilon: {}\\tTest Accuracy = {} / {} = {}\".format(epsilon, correct, len(test_loader), final_acc))\n",
        "\n",
        "    # Return the accuracy and an adversarial example\n",
        "    return final_acc, adv_examples"
      ],
      "execution_count": 0,
      "outputs": []
    },
    {
      "cell_type": "code",
      "metadata": {
        "id": "eNkob7DY02HY",
        "colab_type": "code",
        "outputId": "29227be1-6b1e-44f2-ccb1-bb708f06f188",
        "colab": {
          "base_uri": "https://localhost:8080/",
          "height": 139
        }
      },
      "source": [
        "accuracies = []\n",
        "examples = []\n",
        "monvgg16.eval()\n",
        "# Run test for each epsilon\n",
        "for eps in epsilons:\n",
        "    acc, ex = test(monvgg16, 'cuda', test_dataloader, eps)\n",
        "    accuracies.append(acc)\n",
        "    examples.append(ex)"
      ],
      "execution_count": 0,
      "outputs": [
        {
          "output_type": "stream",
          "text": [
            "Epsilon: 0\tTest Accuracy = 1988 / 1994 = 0.9969909729187563\n",
            "Epsilon: 0.01\tTest Accuracy = 1870 / 1994 = 0.9378134403209629\n",
            "Epsilon: 0.025\tTest Accuracy = 1638 / 1994 = 0.8214643931795386\n",
            "Epsilon: 0.05\tTest Accuracy = 1342 / 1994 = 0.6730190571715146\n",
            "Epsilon: 0.06\tTest Accuracy = 1264 / 1994 = 0.633901705115346\n",
            "Epsilon: 0.075\tTest Accuracy = 1236 / 1994 = 0.6198595787362087\n",
            "Epsilon: 0.1\tTest Accuracy = 1218 / 1994 = 0.6108324974924775\n"
          ],
          "name": "stdout"
        }
      ]
    },
    {
      "cell_type": "code",
      "metadata": {
        "id": "Ub8BN-yW2HDd",
        "colab_type": "code",
        "outputId": "4b48b8f7-5e5e-4a17-fb10-38dc6b37c6db",
        "colab": {
          "base_uri": "https://localhost:8080/",
          "height": 350
        }
      },
      "source": [
        "plt.figure(figsize=(5,5))\n",
        "plt.plot(epsilons, accuracies, \"*-\")\n",
        "plt.yticks(np.arange(0, 1.1, step=0.1))\n",
        "plt.xticks(np.arange(0, .11, step=0.05))\n",
        "plt.title(\"Accuracy vs Epsilon\")\n",
        "plt.xlabel(\"Epsilon\")\n",
        "plt.ylabel(\"Accuracy\")\n",
        "plt.show()"
      ],
      "execution_count": 0,
      "outputs": [
        {
          "output_type": "display_data",
          "data": {
            "image/png": "[encoded data removed]",
            "text/plain": [
              "<Figure size 360x360 with 1 Axes>"
            ]
          },
          "metadata": {
            "tags": []
          }
        }
      ]
    },
    {
      "cell_type": "code",
      "metadata": {
        "id": "DzOpsooqUYcS",
        "colab_type": "code",
        "outputId": "47f2ff41-7a2b-47c8-ffed-08c0f8251899",
        "colab": {
          "base_uri": "https://localhost:8080/",
          "height": 166
        }
      },
      "source": [
        "print(Ytrain)"
      ],
      "execution_count": 0,
      "outputs": [
        {
          "output_type": "error",
          "ename": "NameError",
          "evalue": "ignored",
          "traceback": [
            "\u001b[0;31m---------------------------------------------------------------------------\u001b[0m",
            "\u001b[0;31mNameError\u001b[0m                                 Traceback (most recent call last)",
            "\u001b[0;32m<ipython-input-1-82d0716d1934>\u001b[0m in \u001b[0;36m<module>\u001b[0;34m()\u001b[0m\n\u001b[0;32m----> 1\u001b[0;31m \u001b[0mprint\u001b[0m\u001b[0;34m(\u001b[0m\u001b[0mYtrain\u001b[0m\u001b[0;34m)\u001b[0m\u001b[0;34m\u001b[0m\u001b[0;34m\u001b[0m\u001b[0m\n\u001b[0m",
            "\u001b[0;31mNameError\u001b[0m: name 'Ytrain' is not defined"
          ]
        }
      ]
    }
  ]
}